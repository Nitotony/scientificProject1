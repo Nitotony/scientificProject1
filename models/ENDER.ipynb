{
 "cells": [
  {
   "cell_type": "code",
   "id": "initial_id",
   "metadata": {
    "collapsed": true,
    "jupyter": {
     "is_executing": true
    },
    "ExecuteTime": {
     "start_time": "2024-10-12T17:21:14.332989Z"
    }
   },
   "source": [
    "import numpy as np\n",
    "import pandas as pd\n",
    "from sklearn.linear_model import LinearRegression\n",
    "from sklearn.model_selection import train_test_split\n",
    "from sklearn.feature_selection import SelectKBest, chi2\n",
    "from sklearn.ensemble import RandomForestClassifier, AdaBoostClassifier\n",
    "from sklearn.tree import DecisionTreeClassifier\n",
    "from sklearn.metrics import accuracy_score, precision_score, recall_score, f1_score, confusion_matrix, \\\n",
    "    classification_report\n",
    "\n",
    "labels = pd.read_csv('../data/Label.csv')\n",
    "data = pd.read_csv('../data/Data.csv')\n",
    "\n",
    "print(\"Data shape before processing:\", data.shape)\n",
    "\n",
    "# Check for missing values in each column\n",
    "missing_values_column = data.isnull().sum()\n",
    "if missing_values_column.sum() > 0:\n",
    "    print(\"Columns with missing values:\")\n",
    "    print(missing_values_column[missing_values_column > 0])  # Display columns with missing values\n",
    "else:\n",
    "    print(\"No missing values found in the data.\")\n",
    "\n",
    "# Drop columns with only one unique value\n",
    "for col in data.columns:\n",
    "    if data[col].nunique() == 1:\n",
    "        data.drop(col, axis=1, inplace=True)\n",
    "        print(f\"Dropped column: {col}\")\n",
    "\n",
    "# Split the data into training and testing sets\n",
    "X_train, X_test, y_train, y_test = train_test_split(data, labels['Label'], test_size=0.2, random_state=42)\n",
    "\n",
    "best_features = SelectKBest(score_func=chi2, k=10)\n",
    "fit = best_features.fit(X_train, y_train)\n",
    "\n",
    "# Get the scores for each feature\n",
    "dfscores = pd.DataFrame(fit.scores_, columns=['Score'])\n",
    "dfcolumns = pd.DataFrame(X_train.columns, columns=['Feature'])\n",
    "\n",
    "# Concatenate feature names and scores\n",
    "feature_scores = pd.concat([dfcolumns, dfscores], axis=1)\n",
    "\n",
    "# Sort and get the top features\n",
    "feature_scores = feature_scores.sort_values(by='Score', ascending=False)\n",
    "top_30_features = feature_scores.head(30)['Feature'].values\n",
    "\n",
    "# Reduce the datasets to selected features\n",
    "X_train_reduced = X_train[top_30_features]\n",
    "X_test_reduced = X_test[top_30_features]\n",
    "\n",
    "print(\"Reduced X_train shape:\", X_train_reduced.shape)\n",
    "print(\"Reduced X_test shape:\", X_test_reduced.shape)\n",
    "\n",
    "# Initialize the base classifier (e.g., DecisionTreeClassifier)\n",
    "base_estimator =RandomForestClassifier(n_estimators=100, random_state=42) \n",
    "\n",
    "# Initialize the AdaBoost classifier\n",
    "ada_classifier = AdaBoostClassifier(estimator=base_estimator, n_estimators=50, random_state=42)\n",
    "\n",
    "# Fit the model\n",
    "ada_classifier.fit(X_train_reduced, y_train)\n",
    "\n",
    "# Predict on the test data\n",
    "y_pred = ada_classifier.predict(X_test_reduced)\n",
    "\n",
    "print(\"\\nClassification Report:\")\n",
    "report = classification_report(y_test, y_pred, target_names=[f\"Class {i}\" for i in np.unique(y_test)])\n",
    "print(report)\n",
    "\n",
    "# Print accuracy score\n",
    "accuracy = accuracy_score(y_test, y_pred)\n",
    "print(f\"Accuracy: {accuracy:.2f}\")"
   ],
   "outputs": [
    {
     "name": "stdout",
     "output_type": "stream",
     "text": [
      "Data shape before processing: (447915, 76)\n",
      "No missing values found in the data.\n",
      "Dropped column: Bwd PSH Flags\n",
      "Dropped column: Fwd URG Flags\n",
      "Dropped column: Bwd URG Flags\n",
      "Dropped column: URG Flag Count\n",
      "Dropped column: CWR Flag Count\n",
      "Dropped column: ECE Flag Count\n",
      "Dropped column: Fwd Bytes/Bulk Avg\n",
      "Dropped column: Fwd Packet/Bulk Avg\n",
      "Dropped column: Fwd Bulk Rate Avg\n",
      "Reduced X_train shape: (358332, 30)\n",
      "Reduced X_test shape: (89583, 30)\n"
     ]
    },
    {
     "name": "stderr",
     "output_type": "stream",
     "text": [
      "C:\\Users\\nitot\\miniconda3\\Lib\\site-packages\\sklearn\\ensemble\\_weight_boosting.py:527: FutureWarning: The SAMME.R algorithm (the default) is deprecated and will be removed in 1.6. Use the SAMME algorithm to circumvent this warning.\n",
      "  warnings.warn(\n"
     ]
    }
   ],
   "execution_count": null
  }
 ],
 "metadata": {
  "kernelspec": {
   "display_name": "Python 3",
   "language": "python",
   "name": "python3"
  },
  "language_info": {
   "codemirror_mode": {
    "name": "ipython",
    "version": 2
   },
   "file_extension": ".py",
   "mimetype": "text/x-python",
   "name": "python",
   "nbconvert_exporter": "python",
   "pygments_lexer": "ipython2",
   "version": "2.7.6"
  }
 },
 "nbformat": 4,
 "nbformat_minor": 5
}
